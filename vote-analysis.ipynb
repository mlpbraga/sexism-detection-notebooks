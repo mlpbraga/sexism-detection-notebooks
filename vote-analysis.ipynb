{
 "cells": [
  {
   "cell_type": "code",
   "execution_count": 1,
   "metadata": {},
   "outputs": [],
   "source": [
    "import pandas as pd\n",
    "import numpy as np\n",
    "from nltk import agreement"
   ]
  },
  {
   "cell_type": "code",
   "execution_count": 2,
   "metadata": {},
   "outputs": [],
   "source": [
    "votes_df = pd.read_csv('data/votes.csv')"
   ]
  },
  {
   "cell_type": "code",
   "execution_count": 3,
   "metadata": {},
   "outputs": [],
   "source": [
    "vote_count = votes_df.groupby(['comment_id']).agg(['count'])\n",
    "\n",
    "comments_w_2_votes = list(vote_count['user_id'][vote_count['user_id']['count'] == 2].index)\n",
    "comments_w_3_votes = list(vote_count['user_id'][vote_count['user_id']['count'] == 3].index)\n",
    "comments_w_4_votes = list(vote_count['user_id'][vote_count['user_id']['count'] == 4].index)\n",
    "comments_w_5_votes = list(vote_count['user_id'][vote_count['user_id']['count'] == 5].index)\n",
    "comments_w_6_votes = list(vote_count['user_id'][vote_count['user_id']['count'] == 6].index)\n",
    "comments_w_7_votes = list(vote_count['user_id'][vote_count['user_id']['count'] == 7].index)"
   ]
  },
  {
   "cell_type": "code",
   "execution_count": 13,
   "metadata": {},
   "outputs": [
    {
     "data": {
      "text/html": [
       "<div>\n",
       "<style scoped>\n",
       "    .dataframe tbody tr th:only-of-type {\n",
       "        vertical-align: middle;\n",
       "    }\n",
       "\n",
       "    .dataframe tbody tr th {\n",
       "        vertical-align: top;\n",
       "    }\n",
       "\n",
       "    .dataframe thead th {\n",
       "        text-align: right;\n",
       "    }\n",
       "</style>\n",
       "<table border=\"1\" class=\"dataframe\">\n",
       "  <thead>\n",
       "    <tr style=\"text-align: right;\">\n",
       "      <th></th>\n",
       "      <th>comment_id</th>\n",
       "      <th>user_A</th>\n",
       "      <th>user_B</th>\n",
       "      <th>user_C</th>\n",
       "      <th>user_D</th>\n",
       "      <th>user_E</th>\n",
       "      <th>user_F</th>\n",
       "      <th>user_G</th>\n",
       "    </tr>\n",
       "  </thead>\n",
       "  <tbody>\n",
       "    <tr>\n",
       "      <th>0</th>\n",
       "      <td>266</td>\n",
       "      <td>1</td>\n",
       "      <td>0</td>\n",
       "      <td>0</td>\n",
       "      <td>1</td>\n",
       "      <td>0</td>\n",
       "      <td>0</td>\n",
       "      <td>0</td>\n",
       "    </tr>\n",
       "    <tr>\n",
       "      <th>1</th>\n",
       "      <td>428</td>\n",
       "      <td>1</td>\n",
       "      <td>0</td>\n",
       "      <td>0</td>\n",
       "      <td>1</td>\n",
       "      <td>0</td>\n",
       "      <td>1</td>\n",
       "      <td>1</td>\n",
       "    </tr>\n",
       "    <tr>\n",
       "      <th>2</th>\n",
       "      <td>945</td>\n",
       "      <td>0</td>\n",
       "      <td>1</td>\n",
       "      <td>1</td>\n",
       "      <td>0</td>\n",
       "      <td>0</td>\n",
       "      <td>1</td>\n",
       "      <td>1</td>\n",
       "    </tr>\n",
       "    <tr>\n",
       "      <th>3</th>\n",
       "      <td>1735</td>\n",
       "      <td>1</td>\n",
       "      <td>0</td>\n",
       "      <td>1</td>\n",
       "      <td>0</td>\n",
       "      <td>1</td>\n",
       "      <td>0</td>\n",
       "      <td>1</td>\n",
       "    </tr>\n",
       "    <tr>\n",
       "      <th>4</th>\n",
       "      <td>2369</td>\n",
       "      <td>0</td>\n",
       "      <td>1</td>\n",
       "      <td>0</td>\n",
       "      <td>1</td>\n",
       "      <td>0</td>\n",
       "      <td>1</td>\n",
       "      <td>1</td>\n",
       "    </tr>\n",
       "    <tr>\n",
       "      <th>5</th>\n",
       "      <td>2891</td>\n",
       "      <td>1</td>\n",
       "      <td>0</td>\n",
       "      <td>0</td>\n",
       "      <td>1</td>\n",
       "      <td>0</td>\n",
       "      <td>1</td>\n",
       "      <td>1</td>\n",
       "    </tr>\n",
       "    <tr>\n",
       "      <th>6</th>\n",
       "      <td>2979</td>\n",
       "      <td>1</td>\n",
       "      <td>0</td>\n",
       "      <td>1</td>\n",
       "      <td>0</td>\n",
       "      <td>0</td>\n",
       "      <td>1</td>\n",
       "      <td>1</td>\n",
       "    </tr>\n",
       "  </tbody>\n",
       "</table>\n",
       "</div>"
      ],
      "text/plain": [
       "   comment_id  user_A  user_B  user_C  user_D  user_E  user_F  user_G\n",
       "0         266       1       0       0       1       0       0       0\n",
       "1         428       1       0       0       1       0       1       1\n",
       "2         945       0       1       1       0       0       1       1\n",
       "3        1735       1       0       1       0       1       0       1\n",
       "4        2369       0       1       0       1       0       1       1\n",
       "5        2891       1       0       0       1       0       1       1\n",
       "6        2979       1       0       1       0       0       1       1"
      ]
     },
     "execution_count": 13,
     "metadata": {},
     "output_type": "execute_result"
    }
   ],
   "source": [
    "comment_vote"
   ]
  },
  {
   "cell_type": "markdown",
   "metadata": {},
   "source": [
    "### Agreement to comments with 2 votes"
   ]
  },
  {
   "cell_type": "code",
   "execution_count": 5,
   "metadata": {},
   "outputs": [
    {
     "name": "stdout",
     "output_type": "stream",
     "text": [
      "Fleiss's Kappa: 0.9954789502991045\n"
     ]
    }
   ],
   "source": [
    "comment_vote = {'comment_id': [], 'user_A': [], 'user_B': []}\n",
    "\n",
    "for comment in comments_w_2_votes:\n",
    "    df = votes_df[(votes_df['comment_id'] == comment)]\n",
    "    comment_vote['comment_id'].append(comment)\n",
    "    comment_vote['user_A'].append(df.iloc[0].vote)\n",
    "    comment_vote['user_B'].append(df.iloc[1].vote)\n",
    "\n",
    "comment_vote = pd.DataFrame(comment_vote)\n",
    "\n",
    "from nltk import agreement\n",
    "\n",
    "coder1 = list(comment_vote['user_A'])\n",
    "coder2 = list(comment_vote['user_B'])\n",
    "\n",
    "formatted_codes =   [[1,i,coder1[i]] for i in range(len(coder1))] + \\\n",
    "                    [[2,i,coder2[i]] for i in range(len(coder2))]\n",
    "\n",
    "ratingtask = agreement.AnnotationTask(data=formatted_codes)\n",
    "\n",
    "print('Fleiss\\'s Kappa:',ratingtask.multi_kappa())"
   ]
  },
  {
   "cell_type": "markdown",
   "metadata": {},
   "source": [
    "### Agreement to comments with 3 votes"
   ]
  },
  {
   "cell_type": "code",
   "execution_count": 6,
   "metadata": {},
   "outputs": [
    {
     "name": "stdout",
     "output_type": "stream",
     "text": [
      "Fleiss's Kappa: 0.22801183782383636\n"
     ]
    }
   ],
   "source": [
    "comment_vote = {'comment_id': [], 'user_A': [], 'user_B': [], 'user_C': []}\n",
    "\n",
    "for comment in comments_w_3_votes:\n",
    "    df = votes_df[(votes_df['comment_id'] == comment)]\n",
    "    comment_vote['comment_id'].append(comment)\n",
    "    comment_vote['user_A'].append(df.iloc[0].vote)\n",
    "    comment_vote['user_B'].append(df.iloc[1].vote)\n",
    "    comment_vote['user_C'].append(df.iloc[2].vote)\n",
    "\n",
    "comment_vote = pd.DataFrame(comment_vote)\n",
    "\n",
    "from nltk import agreement\n",
    "\n",
    "coder1 = list(comment_vote['user_A'])\n",
    "coder2 = list(comment_vote['user_B'])\n",
    "coder3 = list(comment_vote['user_C'])\n",
    "\n",
    "formatted_codes =   [[1,i,coder1[i]] for i in range(len(coder1))] + \\\n",
    "                    [[2,i,coder2[i]] for i in range(len(coder2))] + \\\n",
    "                    [[3,i,coder3[i]] for i in range(len(coder3))]\n",
    "ratingtask = agreement.AnnotationTask(data=formatted_codes)\n",
    "\n",
    "print('Fleiss\\'s Kappa:',ratingtask.multi_kappa())"
   ]
  },
  {
   "cell_type": "markdown",
   "metadata": {},
   "source": [
    "### Agreement to comments with 4 votes"
   ]
  },
  {
   "cell_type": "code",
   "execution_count": 7,
   "metadata": {},
   "outputs": [
    {
     "name": "stdout",
     "output_type": "stream",
     "text": [
      "Fleiss's Kappa: 0.4139089574857945\n"
     ]
    }
   ],
   "source": [
    "comment_vote = {'comment_id': [], 'user_A': [], 'user_B': [], 'user_C': [], 'user_D': []}\n",
    "\n",
    "for comment in comments_w_4_votes:\n",
    "    df = votes_df[(votes_df['comment_id'] == comment)]\n",
    "    comment_vote['comment_id'].append(comment)\n",
    "    comment_vote['user_A'].append(df.iloc[0].vote)\n",
    "    comment_vote['user_B'].append(df.iloc[1].vote)\n",
    "    comment_vote['user_C'].append(df.iloc[2].vote)\n",
    "    comment_vote['user_D'].append(df.iloc[3].vote)\n",
    "\n",
    "comment_vote = pd.DataFrame(comment_vote)\n",
    "\n",
    "from nltk import agreement\n",
    "\n",
    "coder1 = list(comment_vote['user_A'])\n",
    "coder2 = list(comment_vote['user_B'])\n",
    "coder3 = list(comment_vote['user_C'])\n",
    "coder4 = list(comment_vote['user_D'])\n",
    "\n",
    "formatted_codes =   [[1,i,coder1[i]] for i in range(len(coder1))] + \\\n",
    "                    [[2,i,coder2[i]] for i in range(len(coder2))] + \\\n",
    "                    [[3,i,coder3[i]] for i in range(len(coder3))] + \\\n",
    "                    [[4,i,coder4[i]] for i in range(len(coder4))]\n",
    "\n",
    "ratingtask = agreement.AnnotationTask(data=formatted_codes)\n",
    "\n",
    "print('Fleiss\\'s Kappa:',ratingtask.multi_kappa())"
   ]
  },
  {
   "cell_type": "markdown",
   "metadata": {},
   "source": [
    "### Agreement to comments with 5 votes"
   ]
  },
  {
   "cell_type": "code",
   "execution_count": 8,
   "metadata": {},
   "outputs": [
    {
     "name": "stdout",
     "output_type": "stream",
     "text": [
      "Fleiss's Kappa: 0.012068910613635494\n"
     ]
    }
   ],
   "source": [
    "comment_vote = {'comment_id': [], 'user_A': [], 'user_B': [], 'user_C': [], 'user_D': [], 'user_E': []}\n",
    "\n",
    "for comment in comments_w_5_votes:\n",
    "    df = votes_df[(votes_df['comment_id'] == comment)]\n",
    "    comment_vote['comment_id'].append(comment)\n",
    "    comment_vote['user_A'].append(df.iloc[0].vote)\n",
    "    comment_vote['user_B'].append(df.iloc[1].vote)\n",
    "    comment_vote['user_C'].append(df.iloc[2].vote)\n",
    "    comment_vote['user_D'].append(df.iloc[3].vote)\n",
    "    comment_vote['user_E'].append(df.iloc[4].vote)\n",
    "\n",
    "comment_vote = pd.DataFrame(comment_vote)\n",
    "\n",
    "from nltk import agreement\n",
    "\n",
    "coder1 = list(comment_vote['user_A'])\n",
    "coder2 = list(comment_vote['user_B'])\n",
    "coder3 = list(comment_vote['user_C'])\n",
    "coder4 = list(comment_vote['user_D'])\n",
    "coder5 = list(comment_vote['user_E'])\n",
    "\n",
    "formatted_codes =   [[1,i,coder1[i]] for i in range(len(coder1))] + \\\n",
    "                    [[2,i,coder2[i]] for i in range(len(coder2))] + \\\n",
    "                    [[3,i,coder3[i]] for i in range(len(coder3))] + \\\n",
    "                    [[4,i,coder4[i]] for i in range(len(coder4))] + \\\n",
    "                    [[5,i,coder5[i]] for i in range(len(coder5))]\n",
    "\n",
    "ratingtask = agreement.AnnotationTask(data=formatted_codes)\n",
    "\n",
    "print('Fleiss\\'s Kappa:',ratingtask.multi_kappa())"
   ]
  },
  {
   "cell_type": "markdown",
   "metadata": {},
   "source": [
    "### Agreement to comments with 6 votes"
   ]
  },
  {
   "cell_type": "code",
   "execution_count": 9,
   "metadata": {},
   "outputs": [
    {
     "name": "stdout",
     "output_type": "stream",
     "text": [
      "Fleiss's Kappa: -0.0799999999999997\n"
     ]
    }
   ],
   "source": [
    "comment_vote = {'comment_id': [], 'user_A': [], 'user_B': [], 'user_C': [], 'user_D': [], 'user_E': [], 'user_F': []}\n",
    "\n",
    "for comment in comments_w_6_votes:\n",
    "    df = votes_df[(votes_df['comment_id'] == comment)]\n",
    "    comment_vote['comment_id'].append(comment)\n",
    "    comment_vote['user_A'].append(df.iloc[0].vote)\n",
    "    comment_vote['user_B'].append(df.iloc[1].vote)\n",
    "    comment_vote['user_C'].append(df.iloc[2].vote)\n",
    "    comment_vote['user_D'].append(df.iloc[3].vote)\n",
    "    comment_vote['user_E'].append(df.iloc[4].vote)\n",
    "    comment_vote['user_F'].append(df.iloc[5].vote)\n",
    "\n",
    "comment_vote = pd.DataFrame(comment_vote)\n",
    "\n",
    "from nltk import agreement\n",
    "\n",
    "coder1 = list(comment_vote['user_A'])\n",
    "coder2 = list(comment_vote['user_B'])\n",
    "coder3 = list(comment_vote['user_C'])\n",
    "coder4 = list(comment_vote['user_D'])\n",
    "coder5 = list(comment_vote['user_E'])\n",
    "coder6 = list(comment_vote['user_F'])\n",
    "\n",
    "formatted_codes =   [[1,i,coder1[i]] for i in range(len(coder1))] + \\\n",
    "                    [[2,i,coder2[i]] for i in range(len(coder2))] + \\\n",
    "                    [[3,i,coder3[i]] for i in range(len(coder3))] + \\\n",
    "                    [[4,i,coder4[i]] for i in range(len(coder4))] + \\\n",
    "                    [[5,i,coder5[i]] for i in range(len(coder5))] + \\\n",
    "                    [[6,i,coder6[i]] for i in range(len(coder6))]\n",
    "\n",
    "ratingtask = agreement.AnnotationTask(data=formatted_codes)\n",
    "\n",
    "print('Fleiss\\'s Kappa:',ratingtask.multi_kappa())"
   ]
  },
  {
   "cell_type": "markdown",
   "metadata": {},
   "source": [
    "### Agreement to comments with 6 votes"
   ]
  },
  {
   "cell_type": "code",
   "execution_count": 10,
   "metadata": {},
   "outputs": [
    {
     "name": "stdout",
     "output_type": "stream",
     "text": [
      "Fleiss's Kappa: -0.08301886792452819\n"
     ]
    }
   ],
   "source": [
    "comment_vote = {'comment_id': [], 'user_A': [], 'user_B': [], 'user_C': [], 'user_D': [], 'user_E': [], 'user_F': [], 'user_G': []}\n",
    "\n",
    "for comment in comments_w_7_votes:\n",
    "    df = votes_df[(votes_df['comment_id'] == comment)]\n",
    "    comment_vote['comment_id'].append(comment)\n",
    "    comment_vote['user_A'].append(df.iloc[0].vote)\n",
    "    comment_vote['user_B'].append(df.iloc[1].vote)\n",
    "    comment_vote['user_C'].append(df.iloc[2].vote)\n",
    "    comment_vote['user_D'].append(df.iloc[3].vote)\n",
    "    comment_vote['user_E'].append(df.iloc[4].vote)\n",
    "    comment_vote['user_F'].append(df.iloc[5].vote)\n",
    "    comment_vote['user_G'].append(df.iloc[6].vote)\n",
    "\n",
    "comment_vote = pd.DataFrame(comment_vote)\n",
    "\n",
    "from nltk import agreement\n",
    "\n",
    "coder1 = list(comment_vote['user_A'])\n",
    "coder2 = list(comment_vote['user_B'])\n",
    "coder3 = list(comment_vote['user_C'])\n",
    "coder4 = list(comment_vote['user_D'])\n",
    "coder5 = list(comment_vote['user_E'])\n",
    "coder6 = list(comment_vote['user_F'])\n",
    "coder7 = list(comment_vote['user_G'])\n",
    "\n",
    "formatted_codes =   [[1,i,coder1[i]] for i in range(len(coder1))] + \\\n",
    "                    [[2,i,coder2[i]] for i in range(len(coder2))] + \\\n",
    "                    [[3,i,coder3[i]] for i in range(len(coder3))] + \\\n",
    "                    [[4,i,coder4[i]] for i in range(len(coder4))] + \\\n",
    "                    [[5,i,coder5[i]] for i in range(len(coder5))] + \\\n",
    "                    [[6,i,coder6[i]] for i in range(len(coder6))] + \\\n",
    "                    [[7,i,coder6[i]] for i in range(len(coder7))]\n",
    "\n",
    "ratingtask = agreement.AnnotationTask(data=formatted_codes)\n",
    "\n",
    "print('Fleiss\\'s Kappa:',ratingtask.multi_kappa())"
   ]
  },
  {
   "cell_type": "code",
   "execution_count": 11,
   "metadata": {},
   "outputs": [
    {
     "data": {
      "text/html": [
       "<div>\n",
       "<style scoped>\n",
       "    .dataframe tbody tr th:only-of-type {\n",
       "        vertical-align: middle;\n",
       "    }\n",
       "\n",
       "    .dataframe tbody tr th {\n",
       "        vertical-align: top;\n",
       "    }\n",
       "\n",
       "    .dataframe thead th {\n",
       "        text-align: right;\n",
       "    }\n",
       "</style>\n",
       "<table border=\"1\" class=\"dataframe\">\n",
       "  <thead>\n",
       "    <tr style=\"text-align: right;\">\n",
       "      <th></th>\n",
       "      <th>comment_id</th>\n",
       "      <th>user_A</th>\n",
       "      <th>user_B</th>\n",
       "      <th>user_C</th>\n",
       "      <th>user_D</th>\n",
       "      <th>user_E</th>\n",
       "      <th>user_F</th>\n",
       "      <th>user_G</th>\n",
       "    </tr>\n",
       "  </thead>\n",
       "  <tbody>\n",
       "    <tr>\n",
       "      <th>0</th>\n",
       "      <td>266</td>\n",
       "      <td>1</td>\n",
       "      <td>0</td>\n",
       "      <td>0</td>\n",
       "      <td>1</td>\n",
       "      <td>0</td>\n",
       "      <td>0</td>\n",
       "      <td>0</td>\n",
       "    </tr>\n",
       "    <tr>\n",
       "      <th>1</th>\n",
       "      <td>428</td>\n",
       "      <td>1</td>\n",
       "      <td>0</td>\n",
       "      <td>0</td>\n",
       "      <td>1</td>\n",
       "      <td>0</td>\n",
       "      <td>1</td>\n",
       "      <td>1</td>\n",
       "    </tr>\n",
       "    <tr>\n",
       "      <th>2</th>\n",
       "      <td>945</td>\n",
       "      <td>0</td>\n",
       "      <td>1</td>\n",
       "      <td>1</td>\n",
       "      <td>0</td>\n",
       "      <td>0</td>\n",
       "      <td>1</td>\n",
       "      <td>1</td>\n",
       "    </tr>\n",
       "    <tr>\n",
       "      <th>3</th>\n",
       "      <td>1735</td>\n",
       "      <td>1</td>\n",
       "      <td>0</td>\n",
       "      <td>1</td>\n",
       "      <td>0</td>\n",
       "      <td>1</td>\n",
       "      <td>0</td>\n",
       "      <td>1</td>\n",
       "    </tr>\n",
       "    <tr>\n",
       "      <th>4</th>\n",
       "      <td>2369</td>\n",
       "      <td>0</td>\n",
       "      <td>1</td>\n",
       "      <td>0</td>\n",
       "      <td>1</td>\n",
       "      <td>0</td>\n",
       "      <td>1</td>\n",
       "      <td>1</td>\n",
       "    </tr>\n",
       "    <tr>\n",
       "      <th>5</th>\n",
       "      <td>2891</td>\n",
       "      <td>1</td>\n",
       "      <td>0</td>\n",
       "      <td>0</td>\n",
       "      <td>1</td>\n",
       "      <td>0</td>\n",
       "      <td>1</td>\n",
       "      <td>1</td>\n",
       "    </tr>\n",
       "    <tr>\n",
       "      <th>6</th>\n",
       "      <td>2979</td>\n",
       "      <td>1</td>\n",
       "      <td>0</td>\n",
       "      <td>1</td>\n",
       "      <td>0</td>\n",
       "      <td>0</td>\n",
       "      <td>1</td>\n",
       "      <td>1</td>\n",
       "    </tr>\n",
       "  </tbody>\n",
       "</table>\n",
       "</div>"
      ],
      "text/plain": [
       "   comment_id  user_A  user_B  user_C  user_D  user_E  user_F  user_G\n",
       "0         266       1       0       0       1       0       0       0\n",
       "1         428       1       0       0       1       0       1       1\n",
       "2         945       0       1       1       0       0       1       1\n",
       "3        1735       1       0       1       0       1       0       1\n",
       "4        2369       0       1       0       1       0       1       1\n",
       "5        2891       1       0       0       1       0       1       1\n",
       "6        2979       1       0       1       0       0       1       1"
      ]
     },
     "execution_count": 11,
     "metadata": {},
     "output_type": "execute_result"
    }
   ],
   "source": [
    "comment_vote"
   ]
  }
 ],
 "metadata": {
  "kernelspec": {
   "display_name": "Python 3 (ipykernel)",
   "language": "python",
   "name": "python3"
  },
  "language_info": {
   "codemirror_mode": {
    "name": "ipython",
    "version": 3
   },
   "file_extension": ".py",
   "mimetype": "text/x-python",
   "name": "python",
   "nbconvert_exporter": "python",
   "pygments_lexer": "ipython3",
   "version": "3.9.9"
  }
 },
 "nbformat": 4,
 "nbformat_minor": 4
}
