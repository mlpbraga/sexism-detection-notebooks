{
 "cells": [
  {
   "cell_type": "code",
   "execution_count": 1,
   "metadata": {},
   "outputs": [],
   "source": [
    "import pandas as pd\n",
    "import numpy as np\n",
    "from nltk import agreement"
   ]
  },
  {
   "cell_type": "code",
   "execution_count": 2,
   "metadata": {},
   "outputs": [],
   "source": [
    "votes_df = pd.read_csv('data/votes.csv')"
   ]
  },
  {
   "cell_type": "code",
   "execution_count": 3,
   "metadata": {},
   "outputs": [],
   "source": [
    "vote_count = votes_df.groupby(['comment_id']).agg(['count'])\n",
    "\n",
    "comments_w_2_votes = list(vote_count['user_id'][vote_count['user_id']['count'] == 2].index)\n",
    "comments_w_3_votes = list(vote_count['user_id'][vote_count['user_id']['count'] == 3].index)\n",
    "comments_w_4_votes = list(vote_count['user_id'][vote_count['user_id']['count'] == 4].index)\n",
    "comments_w_5_votes = list(vote_count['user_id'][vote_count['user_id']['count'] == 5].index)\n",
    "comments_w_6_votes = list(vote_count['user_id'][vote_count['user_id']['count'] == 6].index)\n",
    "comments_w_7_votes = list(vote_count['user_id'][vote_count['user_id']['count'] == 7].index)"
   ]
  },
  {
   "cell_type": "code",
   "execution_count": 4,
   "metadata": {},
   "outputs": [
    {
     "ename": "NameError",
     "evalue": "name 'comment_vote' is not defined",
     "output_type": "error",
     "traceback": [
      "\u001b[0;31m---------------------------------------------------------------------------\u001b[0m",
      "\u001b[0;31mNameError\u001b[0m                                 Traceback (most recent call last)",
      "\u001b[0;32m/var/folders/pk/3cblwdc92rn9h3t4kf03y_940000gp/T/ipykernel_37308/2897437476.py\u001b[0m in \u001b[0;36m<module>\u001b[0;34m\u001b[0m\n\u001b[0;32m----> 1\u001b[0;31m \u001b[0mcomment_vote\u001b[0m\u001b[0;34m\u001b[0m\u001b[0;34m\u001b[0m\u001b[0m\n\u001b[0m",
      "\u001b[0;31mNameError\u001b[0m: name 'comment_vote' is not defined"
     ]
    }
   ],
   "source": [
    "comment_vote"
   ]
  },
  {
   "cell_type": "markdown",
   "metadata": {},
   "source": [
    "### Agreement to comments with 2 votes"
   ]
  },
  {
   "cell_type": "code",
   "execution_count": null,
   "metadata": {},
   "outputs": [],
   "source": [
    "comment_vote = {'comment_id': [], 'user_A': [], 'user_B': []}\n",
    "\n",
    "for comment in comments_w_2_votes:\n",
    "    df = votes_df[(votes_df['comment_id'] == comment)]\n",
    "    comment_vote['comment_id'].append(comment)\n",
    "    comment_vote['user_A'].append(df.iloc[0].vote)\n",
    "    comment_vote['user_B'].append(df.iloc[1].vote)\n",
    "\n",
    "comment_vote = pd.DataFrame(comment_vote)\n",
    "\n",
    "from nltk import agreement\n",
    "\n",
    "coder1 = list(comment_vote['user_A'])\n",
    "coder2 = list(comment_vote['user_B'])\n",
    "\n",
    "formatted_codes =   [[1,i,coder1[i]] for i in range(len(coder1))] + \\\n",
    "                    [[2,i,coder2[i]] for i in range(len(coder2))]\n",
    "\n",
    "ratingtask = agreement.AnnotationTask(data=formatted_codes)\n",
    "\n",
    "print('Fleiss\\'s Kappa:',ratingtask.multi_kappa())"
   ]
  },
  {
   "cell_type": "markdown",
   "metadata": {},
   "source": [
    "### Agreement to comments with 3 votes"
   ]
  },
  {
   "cell_type": "code",
   "execution_count": null,
   "metadata": {},
   "outputs": [],
   "source": [
    "comment_vote = {'comment_id': [], 'user_A': [], 'user_B': [], 'user_C': []}\n",
    "\n",
    "for comment in comments_w_3_votes:\n",
    "    df = votes_df[(votes_df['comment_id'] == comment)]\n",
    "    comment_vote['comment_id'].append(comment)\n",
    "    comment_vote['user_A'].append(df.iloc[0].vote)\n",
    "    comment_vote['user_B'].append(df.iloc[1].vote)\n",
    "    comment_vote['user_C'].append(df.iloc[2].vote)\n",
    "\n",
    "comment_vote = pd.DataFrame(comment_vote)\n",
    "\n",
    "from nltk import agreement\n",
    "\n",
    "coder1 = list(comment_vote['user_A'])\n",
    "coder2 = list(comment_vote['user_B'])\n",
    "coder3 = list(comment_vote['user_C'])\n",
    "\n",
    "formatted_codes =   [[1,i,coder1[i]] for i in range(len(coder1))] + \\\n",
    "                    [[2,i,coder2[i]] for i in range(len(coder2))] + \\\n",
    "                    [[3,i,coder3[i]] for i in range(len(coder3))]\n",
    "ratingtask = agreement.AnnotationTask(data=formatted_codes)\n",
    "\n",
    "print('Fleiss\\'s Kappa:',ratingtask.multi_kappa())"
   ]
  },
  {
   "cell_type": "markdown",
   "metadata": {},
   "source": [
    "### Agreement to comments with 4 votes"
   ]
  },
  {
   "cell_type": "code",
   "execution_count": null,
   "metadata": {},
   "outputs": [],
   "source": [
    "comment_vote = {'comment_id': [], 'user_A': [], 'user_B': [], 'user_C': [], 'user_D': []}\n",
    "\n",
    "for comment in comments_w_4_votes:\n",
    "    df = votes_df[(votes_df['comment_id'] == comment)]\n",
    "    comment_vote['comment_id'].append(comment)\n",
    "    comment_vote['user_A'].append(df.iloc[0].vote)\n",
    "    comment_vote['user_B'].append(df.iloc[1].vote)\n",
    "    comment_vote['user_C'].append(df.iloc[2].vote)\n",
    "    comment_vote['user_D'].append(df.iloc[3].vote)\n",
    "\n",
    "comment_vote = pd.DataFrame(comment_vote)\n",
    "\n",
    "from nltk import agreement\n",
    "\n",
    "coder1 = list(comment_vote['user_A'])\n",
    "coder2 = list(comment_vote['user_B'])\n",
    "coder3 = list(comment_vote['user_C'])\n",
    "coder4 = list(comment_vote['user_D'])\n",
    "\n",
    "formatted_codes =   [[1,i,coder1[i]] for i in range(len(coder1))] + \\\n",
    "                    [[2,i,coder2[i]] for i in range(len(coder2))] + \\\n",
    "                    [[3,i,coder3[i]] for i in range(len(coder3))] + \\\n",
    "                    [[4,i,coder4[i]] for i in range(len(coder4))]\n",
    "\n",
    "ratingtask = agreement.AnnotationTask(data=formatted_codes)\n",
    "\n",
    "print('Fleiss\\'s Kappa:',ratingtask.multi_kappa())"
   ]
  },
  {
   "cell_type": "markdown",
   "metadata": {},
   "source": [
    "### Agreement to comments with 5 votes"
   ]
  },
  {
   "cell_type": "code",
   "execution_count": null,
   "metadata": {},
   "outputs": [],
   "source": [
    "comment_vote = {'comment_id': [], 'user_A': [], 'user_B': [], 'user_C': [], 'user_D': [], 'user_E': []}\n",
    "\n",
    "for comment in comments_w_5_votes:\n",
    "    df = votes_df[(votes_df['comment_id'] == comment)]\n",
    "    comment_vote['comment_id'].append(comment)\n",
    "    comment_vote['user_A'].append(df.iloc[0].vote)\n",
    "    comment_vote['user_B'].append(df.iloc[1].vote)\n",
    "    comment_vote['user_C'].append(df.iloc[2].vote)\n",
    "    comment_vote['user_D'].append(df.iloc[3].vote)\n",
    "    comment_vote['user_E'].append(df.iloc[4].vote)\n",
    "\n",
    "comment_vote = pd.DataFrame(comment_vote)\n",
    "\n",
    "from nltk import agreement\n",
    "\n",
    "coder1 = list(comment_vote['user_A'])\n",
    "coder2 = list(comment_vote['user_B'])\n",
    "coder3 = list(comment_vote['user_C'])\n",
    "coder4 = list(comment_vote['user_D'])\n",
    "coder5 = list(comment_vote['user_E'])\n",
    "\n",
    "formatted_codes =   [[1,i,coder1[i]] for i in range(len(coder1))] + \\\n",
    "                    [[2,i,coder2[i]] for i in range(len(coder2))] + \\\n",
    "                    [[3,i,coder3[i]] for i in range(len(coder3))] + \\\n",
    "                    [[4,i,coder4[i]] for i in range(len(coder4))] + \\\n",
    "                    [[5,i,coder5[i]] for i in range(len(coder5))]\n",
    "\n",
    "ratingtask = agreement.AnnotationTask(data=formatted_codes)\n",
    "\n",
    "print('Fleiss\\'s Kappa:',ratingtask.multi_kappa())"
   ]
  },
  {
   "cell_type": "markdown",
   "metadata": {},
   "source": [
    "### Agreement to comments with 6 votes"
   ]
  },
  {
   "cell_type": "code",
   "execution_count": null,
   "metadata": {},
   "outputs": [],
   "source": [
    "comment_vote = {'comment_id': [], 'user_A': [], 'user_B': [], 'user_C': [], 'user_D': [], 'user_E': [], 'user_F': []}\n",
    "\n",
    "for comment in comments_w_6_votes:\n",
    "    df = votes_df[(votes_df['comment_id'] == comment)]\n",
    "    comment_vote['comment_id'].append(comment)\n",
    "    comment_vote['user_A'].append(df.iloc[0].vote)\n",
    "    comment_vote['user_B'].append(df.iloc[1].vote)\n",
    "    comment_vote['user_C'].append(df.iloc[2].vote)\n",
    "    comment_vote['user_D'].append(df.iloc[3].vote)\n",
    "    comment_vote['user_E'].append(df.iloc[4].vote)\n",
    "    comment_vote['user_F'].append(df.iloc[5].vote)\n",
    "\n",
    "comment_vote = pd.DataFrame(comment_vote)\n",
    "\n",
    "from nltk import agreement\n",
    "\n",
    "coder1 = list(comment_vote['user_A'])\n",
    "coder2 = list(comment_vote['user_B'])\n",
    "coder3 = list(comment_vote['user_C'])\n",
    "coder4 = list(comment_vote['user_D'])\n",
    "coder5 = list(comment_vote['user_E'])\n",
    "coder6 = list(comment_vote['user_F'])\n",
    "\n",
    "formatted_codes =   [[1,i,coder1[i]] for i in range(len(coder1))] + \\\n",
    "                    [[2,i,coder2[i]] for i in range(len(coder2))] + \\\n",
    "                    [[3,i,coder3[i]] for i in range(len(coder3))] + \\\n",
    "                    [[4,i,coder4[i]] for i in range(len(coder4))] + \\\n",
    "                    [[5,i,coder5[i]] for i in range(len(coder5))] + \\\n",
    "                    [[6,i,coder6[i]] for i in range(len(coder6))]\n",
    "\n",
    "ratingtask = agreement.AnnotationTask(data=formatted_codes)\n",
    "\n",
    "print('Fleiss\\'s Kappa:',ratingtask.multi_kappa())"
   ]
  },
  {
   "cell_type": "markdown",
   "metadata": {},
   "source": [
    "### Agreement to comments with 6 votes"
   ]
  },
  {
   "cell_type": "code",
   "execution_count": null,
   "metadata": {},
   "outputs": [],
   "source": [
    "comment_vote = {'comment_id': [], 'user_A': [], 'user_B': [], 'user_C': [], 'user_D': [], 'user_E': [], 'user_F': [], 'user_G': []}\n",
    "\n",
    "for comment in comments_w_7_votes:\n",
    "    df = votes_df[(votes_df['comment_id'] == comment)]\n",
    "    comment_vote['comment_id'].append(comment)\n",
    "    comment_vote['user_A'].append(df.iloc[0].vote)\n",
    "    comment_vote['user_B'].append(df.iloc[1].vote)\n",
    "    comment_vote['user_C'].append(df.iloc[2].vote)\n",
    "    comment_vote['user_D'].append(df.iloc[3].vote)\n",
    "    comment_vote['user_E'].append(df.iloc[4].vote)\n",
    "    comment_vote['user_F'].append(df.iloc[5].vote)\n",
    "    comment_vote['user_G'].append(df.iloc[6].vote)\n",
    "\n",
    "comment_vote = pd.DataFrame(comment_vote)\n",
    "\n",
    "from nltk import agreement\n",
    "\n",
    "coder1 = list(comment_vote['user_A'])\n",
    "coder2 = list(comment_vote['user_B'])\n",
    "coder3 = list(comment_vote['user_C'])\n",
    "coder4 = list(comment_vote['user_D'])\n",
    "coder5 = list(comment_vote['user_E'])\n",
    "coder6 = list(comment_vote['user_F'])\n",
    "coder7 = list(comment_vote['user_G'])\n",
    "\n",
    "formatted_codes =   [[1,i,coder1[i]] for i in range(len(coder1))] + \\\n",
    "                    [[2,i,coder2[i]] for i in range(len(coder2))] + \\\n",
    "                    [[3,i,coder3[i]] for i in range(len(coder3))] + \\\n",
    "                    [[4,i,coder4[i]] for i in range(len(coder4))] + \\\n",
    "                    [[5,i,coder5[i]] for i in range(len(coder5))] + \\\n",
    "                    [[6,i,coder6[i]] for i in range(len(coder6))] + \\\n",
    "                    [[7,i,coder6[i]] for i in range(len(coder7))]\n",
    "\n",
    "ratingtask = agreement.AnnotationTask(data=formatted_codes)\n",
    "\n",
    "print('Fleiss\\'s Kappa:',ratingtask.multi_kappa())"
   ]
  },
  {
   "cell_type": "code",
   "execution_count": null,
   "metadata": {},
   "outputs": [],
   "source": [
    "comment_vote"
   ]
  }
 ],
 "metadata": {
  "kernelspec": {
   "display_name": "Python 3 (ipykernel)",
   "language": "python",
   "name": "python3"
  },
  "language_info": {
   "codemirror_mode": {
    "name": "ipython",
    "version": 3
   },
   "file_extension": ".py",
   "mimetype": "text/x-python",
   "name": "python",
   "nbconvert_exporter": "python",
   "pygments_lexer": "ipython3",
   "version": "3.9.9"
  }
 },
 "nbformat": 4,
 "nbformat_minor": 4
}
